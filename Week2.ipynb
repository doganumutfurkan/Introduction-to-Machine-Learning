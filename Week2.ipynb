{
  "nbformat": 4,
  "nbformat_minor": 0,
  "metadata": {
    "colab": {
      "name": "Week2.ipynb",
      "provenance": [],
      "collapsed_sections": []
    },
    "kernelspec": {
      "name": "python3",
      "display_name": "Python 3"
    },
    "language_info": {
      "name": "python"
    }
  },
  "cells": [
    {
      "cell_type": "markdown",
      "source": [
        "Week2\n",
        "Numpy Exercises"
      ],
      "metadata": {
        "id": "fWMnXidjPm25"
      }
    },
    {
      "cell_type": "code",
      "execution_count": null,
      "metadata": {
        "id": "alrKazskPQQb"
      },
      "outputs": [],
      "source": [
        "import numpy as np"
      ]
    },
    {
      "cell_type": "code",
      "source": [
        "one_dimensional_array = np.array([1.2, 2.4, 3.5, 4.7, 6.1, 7.2, 8.3, 9.5])\n",
        "print(one_dimensional_array)"
      ],
      "metadata": {
        "colab": {
          "base_uri": "https://localhost:8080/"
        },
        "id": "aKFMZs1MP3Vu",
        "outputId": "24ee9799-1bb8-4fcc-89a8-a5edb5597b2b"
      },
      "execution_count": null,
      "outputs": [
        {
          "output_type": "stream",
          "name": "stdout",
          "text": [
            "[1.2 2.4 3.5 4.7 6.1 7.2 8.3 9.5]\n"
          ]
        }
      ]
    },
    {
      "cell_type": "code",
      "source": [
        "two_dimensional_array = np.array([[6, 5], [11, 7], [4, 8]])\n",
        "print(two_dimensional_array)"
      ],
      "metadata": {
        "colab": {
          "base_uri": "https://localhost:8080/"
        },
        "id": "zD-hfZcMP9Uu",
        "outputId": "89c50080-2459-4109-9de8-636a98a06873"
      },
      "execution_count": null,
      "outputs": [
        {
          "output_type": "stream",
          "name": "stdout",
          "text": [
            "[[ 6  5]\n",
            " [11  7]\n",
            " [ 4  8]]\n"
          ]
        }
      ]
    },
    {
      "cell_type": "code",
      "source": [
        "sequence_of_integers = np.arange(5, 12) #Generates array includes 5 to 12(not considered) values.\n",
        "print(sequence_of_integers)             #np.zeros and np.ones fills array with one or zero depends on function name."
      ],
      "metadata": {
        "colab": {
          "base_uri": "https://localhost:8080/"
        },
        "id": "Qe38qOR2QCgH",
        "outputId": "c3be22b3-a217-44d8-8c0f-c527cf9c314f"
      },
      "execution_count": null,
      "outputs": [
        {
          "output_type": "stream",
          "name": "stdout",
          "text": [
            "[ 5  6  7  8  9 10 11]\n"
          ]
        }
      ]
    },
    {
      "cell_type": "code",
      "source": [
        "random_integers_between_50_and_100 = np.random.randint(low=50, high=101, size=(6)) \n",
        "# np.random.randint can fill the array random numbers within specified boundaries.                                                                                 \n",
        "print(random_integers_between_50_and_100)"
      ],
      "metadata": {
        "colab": {
          "base_uri": "https://localhost:8080/"
        },
        "id": "LdIpy3EAQHh7",
        "outputId": "d284bbed-0cb9-434a-f578-1a0fbceb2550"
      },
      "execution_count": null,
      "outputs": [
        {
          "output_type": "stream",
          "name": "stdout",
          "text": [
            "[57 86 89 84 63 54]\n"
          ]
        }
      ]
    },
    {
      "cell_type": "code",
      "source": [
        "random_floats_between_0_and_1 = np.random.random([6]) #random floating point values.\n",
        "print(random_floats_between_0_and_1) "
      ],
      "metadata": {
        "colab": {
          "base_uri": "https://localhost:8080/"
        },
        "id": "wPNxYC1mQRIx",
        "outputId": "f9e55974-360d-4e73-c752-f170ca1e19c7"
      },
      "execution_count": null,
      "outputs": [
        {
          "output_type": "stream",
          "name": "stdout",
          "text": [
            "[0.19462855 0.06071927 0.96233074 0.0010889  0.61382317 0.16284565]\n"
          ]
        }
      ]
    },
    {
      "cell_type": "code",
      "source": [
        "random_floats_between_2_and_3 = random_floats_between_0_and_1 + 2.0 \n",
        "print(random_floats_between_2_and_3)"
      ],
      "metadata": {
        "colab": {
          "base_uri": "https://localhost:8080/"
        },
        "id": "xktPjDRJQWbr",
        "outputId": "1fa5dae2-20ba-4bf2-9dbf-b71101788989"
      },
      "execution_count": null,
      "outputs": [
        {
          "output_type": "stream",
          "name": "stdout",
          "text": [
            "[2.19462855 2.06071927 2.96233074 2.0010889  2.61382317 2.16284565]\n"
          ]
        }
      ]
    },
    {
      "cell_type": "code",
      "source": [
        "random_integers_between_150_and_300 = random_integers_between_50_and_100 * 3\n",
        "print(random_integers_between_150_and_300)"
      ],
      "metadata": {
        "colab": {
          "base_uri": "https://localhost:8080/"
        },
        "id": "BjCJgE43QaBo",
        "outputId": "303afc12-5b76-4180-b15d-24515dadc2f5"
      },
      "execution_count": null,
      "outputs": [
        {
          "output_type": "stream",
          "name": "stdout",
          "text": [
            "[252 171 270 267 273 153]\n"
          ]
        }
      ]
    },
    {
      "cell_type": "code",
      "source": [
        "random_integers_between_150_and_300 = random_integers_between_50_and_100 * 3\n",
        "print(random_integers_between_150_and_300)"
      ],
      "metadata": {
        "colab": {
          "base_uri": "https://localhost:8080/"
        },
        "id": "IVdSZdgRQcyC",
        "outputId": "f4949087-8590-4d27-dc25-4aeb0b39c7b5"
      },
      "execution_count": null,
      "outputs": [
        {
          "output_type": "stream",
          "name": "stdout",
          "text": [
            "[252 171 270 267 273 153]\n"
          ]
        }
      ]
    },
    {
      "cell_type": "code",
      "source": [
        "feature = np.arange(6, 21)\n",
        "print(feature)\n",
        "label = (feature * 3) + 4\n",
        "print(label)"
      ],
      "metadata": {
        "colab": {
          "base_uri": "https://localhost:8080/"
        },
        "id": "yG_jtH7NQoqq",
        "outputId": "de172702-62c0-4672-894c-aaca897011df"
      },
      "execution_count": null,
      "outputs": [
        {
          "output_type": "stream",
          "name": "stdout",
          "text": [
            "[ 6  7  8  9 10 11 12 13 14 15 16 17 18 19 20]\n",
            "[22 25 28 31 34 37 40 43 46 49 52 55 58 61 64]\n"
          ]
        }
      ]
    },
    {
      "cell_type": "code",
      "source": [
        "noise = (np.random.random([15]) * 4) - 2\n",
        "print(noise)\n",
        "label = label + noise \n",
        "print(label)"
      ],
      "metadata": {
        "colab": {
          "base_uri": "https://localhost:8080/"
        },
        "id": "A87kf0SfQy8r",
        "outputId": "304c721d-a7e2-45eb-cbf1-ce63809262c0"
      },
      "execution_count": null,
      "outputs": [
        {
          "output_type": "stream",
          "name": "stdout",
          "text": [
            "[-0.09251196  0.50665276  0.94669357 -1.15955696 -0.52630185 -0.55943978\n",
            " -0.00721243 -0.4944851  -1.40527083 -0.08242134  0.13705353 -1.67724641\n",
            "  0.53094986 -1.28484241  0.21688197]\n",
            "[21.90748804 25.50665276 28.94669357 29.84044304 33.47369815 36.44056022\n",
            " 39.99278757 42.5055149  44.59472917 48.91757866 52.13705353 53.32275359\n",
            " 58.53094986 59.71515759 64.21688197]\n"
          ]
        }
      ]
    },
    {
      "cell_type": "markdown",
      "source": [
        "Pandas Exercises"
      ],
      "metadata": {
        "id": "FNNz_lhHRmY_"
      }
    },
    {
      "cell_type": "code",
      "source": [
        "import numpy as np\n",
        "import pandas as pd"
      ],
      "metadata": {
        "id": "8BY3PlZlRoyF"
      },
      "execution_count": null,
      "outputs": []
    },
    {
      "cell_type": "code",
      "source": [
        "# Create and populate a 5x2 NumPy array.\n",
        "my_data = np.array([[0, 3], [10, 7], [20, 9], [30, 14], [40, 15]])\n",
        "\n",
        "# Create a Python list that holds the names of the two columns.\n",
        "my_column_names = ['temperature', 'activity']\n",
        "\n",
        "# Create a DataFrame.\n",
        "my_dataframe = pd.DataFrame(data=my_data, columns=my_column_names)\n",
        "\n",
        "# Print the entire DataFrame\n",
        "print(my_dataframe)"
      ],
      "metadata": {
        "colab": {
          "base_uri": "https://localhost:8080/"
        },
        "id": "aD4K8AGiR8-3",
        "outputId": "f22014f6-2527-4a8c-f34b-4da9187637ef"
      },
      "execution_count": null,
      "outputs": [
        {
          "output_type": "stream",
          "name": "stdout",
          "text": [
            "   temperature  activity\n",
            "0            0         3\n",
            "1           10         7\n",
            "2           20         9\n",
            "3           30        14\n",
            "4           40        15\n"
          ]
        }
      ]
    },
    {
      "cell_type": "code",
      "source": [
        "# Create a new column named adjusted.\n",
        "my_dataframe[\"adjusted\"] = my_dataframe[\"activity\"] + 2\n",
        "\n",
        "# Print the entire DataFrame\n",
        "print(my_dataframe)"
      ],
      "metadata": {
        "colab": {
          "base_uri": "https://localhost:8080/"
        },
        "id": "FUJ7UaoGSKeq",
        "outputId": "b79914ad-d543-4fa9-d644-083dacfcba59"
      },
      "execution_count": null,
      "outputs": [
        {
          "output_type": "stream",
          "name": "stdout",
          "text": [
            "   temperature  activity  adjusted\n",
            "0            0         3         5\n",
            "1           10         7         9\n",
            "2           20         9        11\n",
            "3           30        14        16\n",
            "4           40        15        17\n"
          ]
        }
      ]
    },
    {
      "cell_type": "code",
      "source": [
        "print(\"Rows #0, #1, and #2:\")\n",
        "print(my_dataframe.head(3), '\\n')\n",
        "\n",
        "print(\"Row #2:\")\n",
        "print(my_dataframe.iloc[[2]], '\\n')\n",
        "\n",
        "print(\"Rows #1, #2, and #3:\")\n",
        "print(my_dataframe[1:4], '\\n')\n",
        "\n",
        "print(\"Column 'temperature':\")\n",
        "print(my_dataframe['temperature'])"
      ],
      "metadata": {
        "colab": {
          "base_uri": "https://localhost:8080/"
        },
        "id": "N8AduwvKSNk1",
        "outputId": "50aa685c-b98f-4ce7-82ef-6395f1d3dace"
      },
      "execution_count": null,
      "outputs": [
        {
          "output_type": "stream",
          "name": "stdout",
          "text": [
            "Rows #0, #1, and #2:\n",
            "   temperature  activity  adjusted\n",
            "0            0         3         5\n",
            "1           10         7         9\n",
            "2           20         9        11 \n",
            "\n",
            "Row #2:\n",
            "   temperature  activity  adjusted\n",
            "2           20         9        11 \n",
            "\n",
            "Rows #1, #2, and #3:\n",
            "   temperature  activity  adjusted\n",
            "1           10         7         9\n",
            "2           20         9        11\n",
            "3           30        14        16 \n",
            "\n",
            "Column 'temperature':\n",
            "0     0\n",
            "1    10\n",
            "2    20\n",
            "3    30\n",
            "4    40\n",
            "Name: temperature, dtype: int64\n"
          ]
        }
      ]
    },
    {
      "cell_type": "code",
      "source": [
        "#@title Double-click for a solution to Task 1.\n",
        "\n",
        "# Create a Python list that holds the names of the four columns.\n",
        "my_column_names = ['Eleanor', 'Chidi', 'Tahani', 'Jason']\n",
        "\n",
        "# Create a 3x4 numpy array, each cell populated with a random integer.\n",
        "my_data = np.random.randint(low=0, high=101, size=(3, 4))\n",
        "\n",
        "# Create a DataFrame.\n",
        "df = pd.DataFrame(data=my_data, columns=my_column_names)\n",
        "\n",
        "# Print the entire DataFrame\n",
        "print(df)\n",
        "\n",
        "# Print the value in row #1 of the Eleanor column.\n",
        "print(\"\\nSecond row of the Eleanor column: %d\\n\" % df['Eleanor'][1])\n",
        "\n",
        "# Create a column named Janet whose contents are the sum\n",
        "# of two other columns.\n",
        "df['Janet'] = df['Tahani'] + df['Jason']\n",
        "\n",
        "# Print the enhanced DataFrame\n",
        "print(df)"
      ],
      "metadata": {
        "colab": {
          "base_uri": "https://localhost:8080/"
        },
        "id": "gifAnEPwSQqE",
        "outputId": "fdb8f007-fb1c-4a2b-acad-a922c2fbaaea"
      },
      "execution_count": null,
      "outputs": [
        {
          "output_type": "stream",
          "name": "stdout",
          "text": [
            "   Eleanor  Chidi  Tahani  Jason\n",
            "0       22     28     100     72\n",
            "1       96     36      53     53\n",
            "2        5     88      35     91\n",
            "\n",
            "Second row of the Eleanor column: 96\n",
            "\n",
            "   Eleanor  Chidi  Tahani  Jason  Janet\n",
            "0       22     28     100     72    172\n",
            "1       96     36      53     53    106\n",
            "2        5     88      35     91    126\n"
          ]
        }
      ]
    },
    {
      "cell_type": "code",
      "source": [
        "# Create a reference by assigning my_dataframe to a new variable.\n",
        "print(\"Experiment with a reference:\")\n",
        "reference_to_df = df\n",
        "\n",
        "# Print the starting value of a particular cell.\n",
        "print(\"  Starting value of df: %d\" % df['Jason'][1])\n",
        "print(\"  Starting value of reference_to_df: %d\\n\" % reference_to_df['Jason'][1])\n",
        "\n",
        "# Modify a cell in df.\n",
        "df.at[1, 'Jason'] = df['Jason'][1] + 5\n",
        "print(\"  Updated df: %d\" % df['Jason'][1])\n",
        "print(\"  Updated reference_to_df: %d\\n\\n\" % reference_to_df['Jason'][1])\n",
        "\n",
        "# Create a true copy of my_dataframe\n",
        "print(\"Experiment with a true copy:\")\n",
        "copy_of_my_dataframe = my_dataframe.copy()\n",
        "\n",
        "# Print the starting value of a particular cell.\n",
        "print(\"  Starting value of my_dataframe: %d\" % my_dataframe['activity'][1])\n",
        "print(\"  Starting value of copy_of_my_dataframe: %d\\n\" % copy_of_my_dataframe['activity'][1])\n",
        "\n",
        "# Modify a cell in df.\n",
        "my_dataframe.at[1, 'activity'] = my_dataframe['activity'][1] + 3\n",
        "print(\"  Updated my_dataframe: %d\" % my_dataframe['activity'][1])\n",
        "print(\"  copy_of_my_dataframe does not get updated: %d\" % copy_of_my_dataframe['activity'][1])"
      ],
      "metadata": {
        "colab": {
          "base_uri": "https://localhost:8080/"
        },
        "id": "SVH5ikuYSVW9",
        "outputId": "0418b895-68f1-435c-db32-85bd80c74ca6"
      },
      "execution_count": null,
      "outputs": [
        {
          "output_type": "stream",
          "name": "stdout",
          "text": [
            "Experiment with a reference:\n",
            "  Starting value of df: 53\n",
            "  Starting value of reference_to_df: 53\n",
            "\n",
            "  Updated df: 58\n",
            "  Updated reference_to_df: 58\n",
            "\n",
            "\n",
            "Experiment with a true copy:\n",
            "  Starting value of my_dataframe: 7\n",
            "  Starting value of copy_of_my_dataframe: 7\n",
            "\n",
            "  Updated my_dataframe: 10\n",
            "  copy_of_my_dataframe does not get updated: 7\n"
          ]
        }
      ]
    }
  ]
}